{
 "cells": [
  {
   "cell_type": "markdown",
   "id": "8cf7d59c-a996-4477-b70d-04c562b6e695",
   "metadata": {},
   "source": [
    "### **Hypothesis Testing - Insurance Data (Core)**"
   ]
  },
  {
   "cell_type": "markdown",
   "id": "c3423936-f450-4fce-8ca3-bb5a2a5881e4",
   "metadata": {},
   "source": [
    "We have been asked to use our hypothesis testing skills to answer the following questions:\n",
    "- Q1. Do smokers have higher insurance charges than non-smokers?\n",
    "- Q2. Are men more likely to smoke than women?\n",
    "- Q3. Do different regions have different charges on average?\n",
    "\n",
    "For each question, make sure to:\n",
    "- State your Null Hypothesis and Alternative Hypothesis\n",
    "- Select the correct test according to the data type and number of samples\n",
    "- Test the assumptions of your selected test\n",
    "- Execute the selected test, or the alternative test (if you do not meet the assumptions)\n",
    "- Interpret your p-value and reject or fail to reject your null hypothesis\n",
    "- Show a supporting visualization that helps display the result"
   ]
  },
  {
   "cell_type": "markdown",
   "id": "39999786-33f7-4fd6-8dc7-dcd0812bdf13",
   "metadata": {},
   "source": [
    "#### **Import libraries**"
   ]
  },
  {
   "cell_type": "code",
   "execution_count": 1,
   "id": "4b0f590a-9c16-49e3-9ca9-c950c8b9e202",
   "metadata": {},
   "outputs": [],
   "source": [
    "import pandas as pd\n",
    "import numpy as np\n",
    "import matplotlib.pyplot as plt\n",
    "import seaborn as sns\n",
    "import scipy.stats as stats\n",
    "\n",
    "from scipy.stats import ttest_ind\n",
    "from scipy.stats import levene\n",
    "from scipy.stats import chi2_contingency\n",
    "from scipy.stats import f_oneway"
   ]
  },
  {
   "cell_type": "code",
   "execution_count": 2,
   "id": "691a20bb-59e1-45d6-8f69-02cff33a12a2",
   "metadata": {},
   "outputs": [
    {
     "data": {
      "text/html": [
       "<div>\n",
       "<style scoped>\n",
       "    .dataframe tbody tr th:only-of-type {\n",
       "        vertical-align: middle;\n",
       "    }\n",
       "\n",
       "    .dataframe tbody tr th {\n",
       "        vertical-align: top;\n",
       "    }\n",
       "\n",
       "    .dataframe thead th {\n",
       "        text-align: right;\n",
       "    }\n",
       "</style>\n",
       "<table border=\"1\" class=\"dataframe\">\n",
       "  <thead>\n",
       "    <tr style=\"text-align: right;\">\n",
       "      <th></th>\n",
       "      <th>age</th>\n",
       "      <th>sex</th>\n",
       "      <th>bmi</th>\n",
       "      <th>children</th>\n",
       "      <th>smoker</th>\n",
       "      <th>region</th>\n",
       "      <th>charges</th>\n",
       "    </tr>\n",
       "  </thead>\n",
       "  <tbody>\n",
       "    <tr>\n",
       "      <th>0</th>\n",
       "      <td>19</td>\n",
       "      <td>female</td>\n",
       "      <td>27.900</td>\n",
       "      <td>0</td>\n",
       "      <td>yes</td>\n",
       "      <td>southwest</td>\n",
       "      <td>16884.92400</td>\n",
       "    </tr>\n",
       "    <tr>\n",
       "      <th>1</th>\n",
       "      <td>18</td>\n",
       "      <td>male</td>\n",
       "      <td>33.770</td>\n",
       "      <td>1</td>\n",
       "      <td>no</td>\n",
       "      <td>southeast</td>\n",
       "      <td>1725.55230</td>\n",
       "    </tr>\n",
       "    <tr>\n",
       "      <th>2</th>\n",
       "      <td>28</td>\n",
       "      <td>male</td>\n",
       "      <td>33.000</td>\n",
       "      <td>3</td>\n",
       "      <td>no</td>\n",
       "      <td>southeast</td>\n",
       "      <td>4449.46200</td>\n",
       "    </tr>\n",
       "    <tr>\n",
       "      <th>3</th>\n",
       "      <td>33</td>\n",
       "      <td>male</td>\n",
       "      <td>22.705</td>\n",
       "      <td>0</td>\n",
       "      <td>no</td>\n",
       "      <td>northwest</td>\n",
       "      <td>21984.47061</td>\n",
       "    </tr>\n",
       "    <tr>\n",
       "      <th>4</th>\n",
       "      <td>32</td>\n",
       "      <td>male</td>\n",
       "      <td>28.880</td>\n",
       "      <td>0</td>\n",
       "      <td>no</td>\n",
       "      <td>northwest</td>\n",
       "      <td>3866.85520</td>\n",
       "    </tr>\n",
       "    <tr>\n",
       "      <th>5</th>\n",
       "      <td>31</td>\n",
       "      <td>female</td>\n",
       "      <td>25.740</td>\n",
       "      <td>0</td>\n",
       "      <td>no</td>\n",
       "      <td>southeast</td>\n",
       "      <td>3756.62160</td>\n",
       "    </tr>\n",
       "    <tr>\n",
       "      <th>6</th>\n",
       "      <td>46</td>\n",
       "      <td>female</td>\n",
       "      <td>33.440</td>\n",
       "      <td>1</td>\n",
       "      <td>no</td>\n",
       "      <td>southeast</td>\n",
       "      <td>8240.58960</td>\n",
       "    </tr>\n",
       "    <tr>\n",
       "      <th>7</th>\n",
       "      <td>37</td>\n",
       "      <td>female</td>\n",
       "      <td>27.740</td>\n",
       "      <td>3</td>\n",
       "      <td>no</td>\n",
       "      <td>northwest</td>\n",
       "      <td>7281.50560</td>\n",
       "    </tr>\n",
       "    <tr>\n",
       "      <th>8</th>\n",
       "      <td>37</td>\n",
       "      <td>male</td>\n",
       "      <td>29.830</td>\n",
       "      <td>2</td>\n",
       "      <td>no</td>\n",
       "      <td>northeast</td>\n",
       "      <td>6406.41070</td>\n",
       "    </tr>\n",
       "    <tr>\n",
       "      <th>9</th>\n",
       "      <td>60</td>\n",
       "      <td>female</td>\n",
       "      <td>25.840</td>\n",
       "      <td>0</td>\n",
       "      <td>no</td>\n",
       "      <td>northwest</td>\n",
       "      <td>28923.13692</td>\n",
       "    </tr>\n",
       "  </tbody>\n",
       "</table>\n",
       "</div>"
      ],
      "text/plain": [
       "   age     sex     bmi  children smoker     region      charges\n",
       "0   19  female  27.900         0    yes  southwest  16884.92400\n",
       "1   18    male  33.770         1     no  southeast   1725.55230\n",
       "2   28    male  33.000         3     no  southeast   4449.46200\n",
       "3   33    male  22.705         0     no  northwest  21984.47061\n",
       "4   32    male  28.880         0     no  northwest   3866.85520\n",
       "5   31  female  25.740         0     no  southeast   3756.62160\n",
       "6   46  female  33.440         1     no  southeast   8240.58960\n",
       "7   37  female  27.740         3     no  northwest   7281.50560\n",
       "8   37    male  29.830         2     no  northeast   6406.41070\n",
       "9   60  female  25.840         0     no  northwest  28923.13692"
      ]
     },
     "execution_count": 2,
     "metadata": {},
     "output_type": "execute_result"
    }
   ],
   "source": [
    "# Load and read data file\n",
    "df = pd.read_csv('Data/insurance.csv')\n",
    "df.head(10)"
   ]
  },
  {
   "cell_type": "markdown",
   "id": "a4716cce-43c3-4460-a7bd-f2b477e2e1d9",
   "metadata": {},
   "source": [
    "#### **Q1. Do smokers have higher insurance charges than non-smokers?**"
   ]
  },
  {
   "cell_type": "markdown",
   "id": "93abbc2d-c103-4986-bf0b-783e807075ef",
   "metadata": {},
   "source": [
    "#### **State the Hypothesis & Null Hypothesis**"
   ]
  },
  {
   "attachments": {},
   "cell_type": "markdown",
   "id": "422e4835-f0db-430c-af69-ec4f02405a7f",
   "metadata": {},
   "source": [
    "[Null Hypothesis] = There is no significant difference between the insurance charges for smokers vs. non-smokers.\n",
    "\n",
    "[Alternative Hypothesis] = There is a significant difference between the insurance charges for smokers vs. non-smokers."
   ]
  },
  {
   "cell_type": "markdown",
   "id": "b00331e1-91b4-46e8-a68d-82bedb29275b",
   "metadata": {},
   "source": [
    "#### **Select the correct test according to the data type and number of samples**"
   ]
  },
  {
   "cell_type": "markdown",
   "id": "0dae6cc5-a98a-453c-b2de-74bf1c91a2f3",
   "metadata": {},
   "source": [
    " - The appropriate test to perform would be:\n",
    "    - Since we are measuring a numeric quantity - i.e. insurance charges\n",
    "    - and we are comparing 2 groups/samples.\n",
    "    - We therefore want to perform a 2-sample t-test, A.K.A. an independent t-test."
   ]
  },
  {
   "cell_type": "markdown",
   "id": "b9250110-1fa2-41d1-9a0a-018f9ddf3c3d",
   "metadata": {},
   "source": [
    "According to the workflow, the 2-sample T-Test has the following assumptions:\n",
    "- No significant outliers\n",
    "- Normality\n",
    "- Equal Variance"
   ]
  },
  {
   "cell_type": "code",
   "execution_count": 3,
   "id": "962ba41f-7d4d-4742-bba4-74f842a11845",
   "metadata": {},
   "outputs": [
    {
     "data": {
      "text/plain": [
       "array(['yes', 'no'], dtype=object)"
      ]
     },
     "execution_count": 3,
     "metadata": {},
     "output_type": "execute_result"
    }
   ],
   "source": [
    "# Perform test based on data type and number of samples\n",
    "df['smoker'].unique()"
   ]
  },
  {
   "cell_type": "code",
   "execution_count": 4,
   "id": "770bd796-24a2-49d0-b9fe-692840f8f166",
   "metadata": {},
   "outputs": [
    {
     "name": "stdout",
     "output_type": "stream",
     "text": [
      "There are 274 Smokers.\n",
      "There are 1064 Non-Smokers.\n"
     ]
    }
   ],
   "source": [
    "# Separate the data into two groups (“smoker” & “non-smoker”)\n",
    "smokers_df = df.loc[df['smoker']=='yes']\n",
    "non_smokers_df = df.loc[df['smoker']=='no']\n",
    "\n",
    "print(f\"There are {len(smokers_df)} Smokers.\" )\n",
    "print(f\"There are {len(non_smokers_df)} Non-Smokers.\" )"
   ]
  },
  {
   "cell_type": "markdown",
   "id": "21dc3c2f-3c74-446f-b4a0-af7124c58a81",
   "metadata": {},
   "source": [
    "### **Visualize & Separate Data for Hypothesis**"
   ]
  },
  {
   "cell_type": "code",
   "execution_count": 5,
   "id": "a3012e04-29d6-4966-89d1-4f21209927b7",
   "metadata": {},
   "outputs": [],
   "source": [
    "# Filtering out charges for smokers\n",
    "smokers_df_charges = smokers_df['charges']"
   ]
  },
  {
   "cell_type": "code",
   "execution_count": 6,
   "id": "dcf94c15-b395-4264-b664-4d57af0425bd",
   "metadata": {},
   "outputs": [
    {
     "data": {
      "text/plain": [
       "0     16884.92400\n",
       "11    27808.72510\n",
       "14    39611.75770\n",
       "19    36837.46700\n",
       "23    37701.87680\n",
       "29    38711.00000\n",
       "30    35585.57600\n",
       "34    51194.55914\n",
       "38    39774.27630\n",
       "39    48173.36100\n",
       "Name: charges, dtype: float64"
      ]
     },
     "execution_count": 6,
     "metadata": {},
     "output_type": "execute_result"
    }
   ],
   "source": [
    "smokers_df_charges.head(10)"
   ]
  },
  {
   "cell_type": "code",
   "execution_count": 7,
   "id": "8a285efd-1833-463c-9fe0-57c40383d1bb",
   "metadata": {},
   "outputs": [
    {
     "name": "stdout",
     "output_type": "stream",
     "text": [
      "<class 'pandas.core.series.Series'>\n",
      "Int64Index: 274 entries, 0 to 1337\n",
      "Series name: charges\n",
      "Non-Null Count  Dtype  \n",
      "--------------  -----  \n",
      "274 non-null    float64\n",
      "dtypes: float64(1)\n",
      "memory usage: 4.3 KB\n"
     ]
    }
   ],
   "source": [
    "smokers_df_charges.info()"
   ]
  },
  {
   "cell_type": "code",
   "execution_count": 8,
   "id": "0d2bd426-5e49-4f90-baae-e0f1f66e3d82",
   "metadata": {},
   "outputs": [],
   "source": [
    "# Filtering out charges for non-smokers\n",
    "non_smokers_df_charges = non_smokers_df['charges']"
   ]
  },
  {
   "cell_type": "code",
   "execution_count": 9,
   "id": "7604a7c7-0931-4ca5-9472-33e7703b58cc",
   "metadata": {},
   "outputs": [
    {
     "data": {
      "text/plain": [
       "1      1725.55230\n",
       "2      4449.46200\n",
       "3     21984.47061\n",
       "4      3866.85520\n",
       "5      3756.62160\n",
       "6      8240.58960\n",
       "7      7281.50560\n",
       "8      6406.41070\n",
       "9     28923.13692\n",
       "10     2721.32080\n",
       "Name: charges, dtype: float64"
      ]
     },
     "execution_count": 9,
     "metadata": {},
     "output_type": "execute_result"
    }
   ],
   "source": [
    "non_smokers_df_charges.head(10)"
   ]
  },
  {
   "cell_type": "code",
   "execution_count": 10,
   "id": "4d1f210d-380e-4f57-8a60-751c75d7d1e2",
   "metadata": {},
   "outputs": [
    {
     "name": "stdout",
     "output_type": "stream",
     "text": [
      "<class 'pandas.core.series.Series'>\n",
      "Int64Index: 1064 entries, 1 to 1336\n",
      "Series name: charges\n",
      "Non-Null Count  Dtype  \n",
      "--------------  -----  \n",
      "1064 non-null   float64\n",
      "dtypes: float64(1)\n",
      "memory usage: 16.6 KB\n"
     ]
    }
   ],
   "source": [
    "non_smokers_df_charges.info()"
   ]
  },
  {
   "cell_type": "code",
   "execution_count": 11,
   "id": "bf7664ac-c1f4-4079-8039-e301fbb62a65",
   "metadata": {},
   "outputs": [
    {
     "data": {
      "text/plain": [
       "0       16884.9240\n",
       "11      27808.7251\n",
       "14      39611.7577\n",
       "19      36837.4670\n",
       "23      37701.8768\n",
       "           ...    \n",
       "1332    11411.6850\n",
       "1333    10600.5483\n",
       "1334     2205.9808\n",
       "1335     1629.8335\n",
       "1336     2007.9450\n",
       "Name: charges, Length: 1338, dtype: float64"
      ]
     },
     "execution_count": 11,
     "metadata": {},
     "output_type": "execute_result"
    }
   ],
   "source": [
    "## Concatenate the two dataframes for visualziation\n",
    "plot_df = pd.concat([smokers_df_charges, non_smokers_df_charges], axis=0)\n",
    "plot_df"
   ]
  },
  {
   "cell_type": "code",
   "execution_count": 12,
   "id": "4dec926b-8f98-485d-b804-d9b778724f8c",
   "metadata": {},
   "outputs": [
    {
     "data": {
      "image/png": "[encoded data removed]",
      "text/plain": [
       "<Figure size 640x480 with 1 Axes>"
      ]
     },
     "metadata": {},
     "output_type": "display_data"
    }
   ],
   "source": [
    "# Visualizing means. ci=68 makes it easier to compare error bars \n",
    "ax = sns.barplot(data=df, x='smoker', y='charges', errorbar=('ci', 68))\n",
    "ax.set_title(\"Charges: Smoker Status\");"
   ]
  },
  {
   "cell_type": "markdown",
   "id": "f44f44ff-a2a3-43fc-b2b1-1fd30d83dc97",
   "metadata": {},
   "source": [
    "#### **Testing Assumptions:**"
   ]
  },
  {
   "cell_type": "markdown",
   "id": "89459a5c-e1f7-4a0f-a9c3-9ed9458815b1",
   "metadata": {},
   "source": [
    "- No significant outliers\n",
    "- Normality\n",
    "- Equal Variance"
   ]
  },
  {
   "cell_type": "markdown",
   "id": "fc030110-2e88-4931-9cd9-aab5bf7f7958",
   "metadata": {},
   "source": [
    "#### **Check for Outliers**"
   ]
  },
  {
   "cell_type": "code",
   "execution_count": 13,
   "id": "23626ba7-340e-4ac0-b628-f36e1b05df20",
   "metadata": {},
   "outputs": [
    {
     "name": "stdout",
     "output_type": "stream",
     "text": [
      "There are 0 outliers in the Smokers group out of 274)\n"
     ]
    }
   ],
   "source": [
    "# Checking for abs value of z-scores that are > 3\n",
    "outliers_smokers = np.abs(stats.zscore(smokers_df_charges)) > 3\n",
    "\n",
    "print(f\"There are {outliers_smokers.sum()} outliers in the Smokers group out of {len(smokers_df_charges)})\")"
   ]
  },
  {
   "cell_type": "code",
   "execution_count": 14,
   "id": "79f04e25-cf52-4d47-bfa5-1d62a1c5b0fa",
   "metadata": {},
   "outputs": [
    {
     "name": "stdout",
     "output_type": "stream",
     "text": [
      "There are 24 outliers in the Non-Smokers group out of 1064)\n"
     ]
    }
   ],
   "source": [
    "# Checking for abs value of z-scores that are > 3\n",
    "outliers_non_smokers = np.abs(stats.zscore(non_smokers_df_charges)) > 3\n",
    "\n",
    "print(f\"There are {outliers_non_smokers.sum()} outliers in the Non-Smokers group out of {len(non_smokers_df_charges)})\")"
   ]
  },
  {
   "cell_type": "markdown",
   "id": "68b116c6-0f0a-4709-9294-1c1d1894abff",
   "metadata": {},
   "source": [
    "#### **Remove Outliers**"
   ]
  },
  {
   "cell_type": "code",
   "execution_count": 15,
   "id": "b4812094-16e8-4f45-adcd-3079bff8d1ee",
   "metadata": {},
   "outputs": [
    {
     "data": {
      "text/plain": [
       "1        1725.55230\n",
       "2        4449.46200\n",
       "3       21984.47061\n",
       "4        3866.85520\n",
       "5        3756.62160\n",
       "           ...     \n",
       "1332    11411.68500\n",
       "1333    10600.54830\n",
       "1334     2205.98080\n",
       "1335     1629.83350\n",
       "1336     2007.94500\n",
       "Name: charges, Length: 1040, dtype: float64"
      ]
     },
     "execution_count": 15,
     "metadata": {},
     "output_type": "execute_result"
    }
   ],
   "source": [
    "## Remove outliers from non-smokers group\n",
    "non_smokers_df_charges = non_smokers_df_charges.loc[~outliers_non_smokers]\n",
    "non_smokers_df_charges"
   ]
  },
  {
   "cell_type": "markdown",
   "id": "cdbe73b2-bb35-4c48-abf1-06ba2665e2bf",
   "metadata": {},
   "source": [
    "#### **Test for Normality**"
   ]
  },
  {
   "cell_type": "code",
   "execution_count": 16,
   "id": "a72fd5da-035e-4005-9b37-85d9c14f4d52",
   "metadata": {},
   "outputs": [
    {
     "name": "stdout",
     "output_type": "stream",
     "text": [
      "p value = 5.564930630036463e-14\n",
      "n = 274\n",
      "p value < than 0.05? True\n"
     ]
    }
   ],
   "source": [
    "# Check smokers group for normality\n",
    "result_smokers = stats.normaltest(smokers_df_charges)\n",
    "\n",
    "print(f'p value = {result_smokers.pvalue}')\n",
    "print(f'n = {len(smokers_df_charges)}')\n",
    "print(f'p value < than 0.05? {result_smokers.pvalue<.05}')"
   ]
  },
  {
   "cell_type": "code",
   "execution_count": 17,
   "id": "70ab8ce7-f9a6-4493-9447-7159115ab9f7",
   "metadata": {},
   "outputs": [
    {
     "name": "stdout",
     "output_type": "stream",
     "text": [
      "p value = 2.6945416315543976e-36\n",
      "n = 1040\n",
      "p value < than 0.05? True\n"
     ]
    }
   ],
   "source": [
    "# Check non-smokers group for normality\n",
    "result_non_smokers = stats.normaltest(non_smokers_df_charges)\n",
    "\n",
    "print(f'p value = {result_non_smokers.pvalue}')\n",
    "print(f'n = {len(non_smokers_df_charges)}')\n",
    "print(f'p value < than 0.05? {result_non_smokers.pvalue<.05}')"
   ]
  },
  {
   "cell_type": "markdown",
   "id": "c98030ea-997f-4f1a-baf3-289ed75ff185",
   "metadata": {},
   "source": [
    "- In results the groups are large enough to safely disregard the assumption of normality."
   ]
  },
  {
   "cell_type": "markdown",
   "id": "9c065cce-bf3a-458a-a77d-da0333d2f808",
   "metadata": {},
   "source": [
    "#### **Test for Equal Variances**"
   ]
  },
  {
   "cell_type": "code",
   "execution_count": 18,
   "id": "4ddbace1-b6e1-4f32-8229-8361f4c7facb",
   "metadata": {},
   "outputs": [
    {
     "name": "stdout",
     "output_type": "stream",
     "text": [
      "LeveneResult(statistic=520.7468821724297, pvalue=2.4247238784347824e-97)\n"
     ]
    }
   ],
   "source": [
    "## Use Levene's test for equal variance\n",
    "result = stats.levene(non_smokers_df_charges, smokers_df_charges)\n",
    "print(result)"
   ]
  },
  {
   "cell_type": "code",
   "execution_count": 19,
   "id": "953df394-e510-402d-8ace-e23bff73d667",
   "metadata": {},
   "outputs": [
    {
     "name": "stdout",
     "output_type": "stream",
     "text": [
      "The groups DO NOT have equal variance\n"
     ]
    }
   ],
   "source": [
    "## Interpret the p-value\n",
    "if result.pvalue < .05:\n",
    "    print(f\"The groups DO NOT have equal variance\")\n",
    "else:\n",
    "    print(f\"The groups DO have equal variance\")"
   ]
  },
  {
   "cell_type": "markdown",
   "id": "2ebc61a8-6666-437d-8eb7-ecfdd108884d",
   "metadata": {},
   "source": [
    "- The assumption of normality was met but the assumption of equal variance was NOT met. \n",
    "- A Welch's T-test will therefore be used by adding `equal_var=False` to `stats.ttest_ind`"
   ]
  },
  {
   "cell_type": "code",
   "execution_count": 20,
   "id": "20032ba9-9328-4bc4-a588-a40ebf025def",
   "metadata": {},
   "outputs": [
    {
     "name": "stdout",
     "output_type": "stream",
     "text": [
      "Welch's T-statistic: 33.7323\n",
      "P-value: 0.0000000000\n"
     ]
    }
   ],
   "source": [
    "t_stat, p_value_welch = ttest_ind(smokers_df_charges, non_smokers_df_charges, equal_var=False)\n",
    "\n",
    "print(f'Welch\\'s T-statistic: {t_stat:.4f}')\n",
    "print(f'P-value: {p_value_welch:.10f}')"
   ]
  },
  {
   "cell_type": "code",
   "execution_count": 21,
   "id": "66221e26-9c01-4eea-bdd5-dc260815c80f",
   "metadata": {},
   "outputs": [
    {
     "name": "stdout",
     "output_type": "stream",
     "text": [
      "P-value: 0.0000\n",
      "Reject the null hypothesis.\n",
      "There is significant evidence to suggest that Smokers have significantly higher insurance charges than Non-Smokers.\n"
     ]
    }
   ],
   "source": [
    "# Display results\n",
    "print(f'P-value: {p_value_welch:.4f}')\n",
    "\n",
    "# Interpretation\n",
    "if p_value_welch < 0.05:\n",
    "    print(\"Reject the null hypothesis.\")\n",
    "    print(\"There is significant evidence to suggest that Smokers have significantly higher insurance charges than Non-Smokers.\")\n",
    "else:\n",
    "    print(\"Fail to reject the null hypothesis.\")\n",
    "    print(\"There is not enough evidence to suggest a significant difference in insurance charges between Smokers and Non-Smokers.\")"
   ]
  },
  {
   "cell_type": "code",
   "execution_count": 22,
   "id": "45104a5e-312e-4680-a3fe-8973b1f3e56e",
   "metadata": {},
   "outputs": [
    {
     "name": "stdout",
     "output_type": "stream",
     "text": [
      "The mean of the charges charged for the Non-Smokers group: 7939.8608446721155\n",
      "The mean of the charges charged for the Smokers group: 32050.23183153284\n"
     ]
    }
   ],
   "source": [
    "print(f'The mean of the charges charged for the Non-Smokers group: {non_smokers_df_charges.mean()}')\n",
    "print(f'The mean of the charges charged for the Smokers group: {smokers_df_charges.mean()}')"
   ]
  },
  {
   "cell_type": "code",
   "execution_count": 23,
   "id": "eac023fd-15a3-4d65-a8de-a5426fdbd4aa",
   "metadata": {},
   "outputs": [
    {
     "data": {
      "image/png": "[encoded data removed]",
      "text/plain": [
       "<Figure size 640x480 with 1 Axes>"
      ]
     },
     "metadata": {},
     "output_type": "display_data"
    }
   ],
   "source": [
    "plt.boxplot([smokers_df_charges, non_smokers_df_charges], labels=['Smokers', 'Non-Smokers'])\n",
    "plt.ylabel('Insurance Charges')\n",
    "plt.title('Insurance Charges: Smokers vs. Non-Smokers')\n",
    "plt.show()"
   ]
  },
  {
   "cell_type": "markdown",
   "id": "4569fd82-08b4-4dac-93b2-d291ba362404",
   "metadata": {},
   "source": [
    "#### **Q2. Are Men more likely to smoke than Women?**"
   ]
  },
  {
   "cell_type": "markdown",
   "id": "bbcc03f2-020f-4fea-ad4f-8eb092b2b596",
   "metadata": {},
   "source": [
    "#### **Create the necessary group variables**"
   ]
  },
  {
   "cell_type": "code",
   "execution_count": 24,
   "id": "9befc98b-6dea-4ba8-a881-e915234aac19",
   "metadata": {},
   "outputs": [],
   "source": [
    "smokers = df.loc[df['smoker']=='yes']\n",
    "non_smokers = df.loc[df['smoker']=='no']\n",
    "\n",
    "smoker_males = smokers['sex']=='male'\n",
    "smoker_females = non_smokers['sex']=='female'"
   ]
  },
  {
   "cell_type": "markdown",
   "id": "14c31bed-2503-4d03-b602-d78793d466a1",
   "metadata": {},
   "source": [
    "#### **State the Hypothesis & Null Hypothesis**"
   ]
  },
  {
   "cell_type": "markdown",
   "id": "8738f082-832f-43fc-a94b-9f055fa49e69",
   "metadata": {},
   "source": [
    "[Null Hypothesis] = There is no significant indication that Men are more likely to smoke than Women.\n",
    "\n",
    "[Alternative Hypothesis] = There is a significant indication that Men are more likely to smoke than Women."
   ]
  },
  {
   "cell_type": "markdown",
   "id": "a12465de-68e4-4ad0-b294-3dde97e262ac",
   "metadata": {},
   "source": [
    "#### **Select the correct test according to the data type and number of samples**"
   ]
  },
  {
   "cell_type": "markdown",
   "id": "c0f0fb4e-8a71-4a07-9703-5c66260d394e",
   "metadata": {},
   "source": [
    " - The appropriate test to perform would be:\n",
    "    - Since we are measuring categorical data\n",
    "    - and we are comparing 2 groups/samples.\n",
    "    - We therefore want to perform a Chi-Square"
   ]
  },
  {
   "cell_type": "markdown",
   "id": "23cf4f5a-c150-4e54-b9dd-f70e1dee643c",
   "metadata": {},
   "source": [
    "According to the workflow, the assumptions for categorical data:\n",
    "- The outcome is binary\n",
    "- The observations are independant"
   ]
  },
  {
   "cell_type": "markdown",
   "id": "b9701cb3-bb8d-4a5b-a729-7a2ceefb9a12",
   "metadata": {},
   "source": [
    "### **Visualize & Separate Data for Hypothesis**"
   ]
  },
  {
   "cell_type": "code",
   "execution_count": 25,
   "id": "0c25dcb1-086d-4dce-8dd5-7edae8231560",
   "metadata": {},
   "outputs": [
    {
     "data": {
      "image/png": "[encoded data removed]",
      "text/plain": [
       "<Figure size 640x480 with 1 Axes>"
      ]
     },
     "metadata": {},
     "output_type": "display_data"
    }
   ],
   "source": [
    "ax = sns.countplot(data=df, x='sex',hue='smoker',)\n",
    "ax.set_title(\"Number of Smokers: Male vs. Female\");"
   ]
  },
  {
   "cell_type": "markdown",
   "id": "7f536ff7-5fb0-428b-86fd-02014ec4249d",
   "metadata": {},
   "source": [
    "#### Create a contingency tabel for the Chi-Squared Test"
   ]
  },
  {
   "cell_type": "code",
   "execution_count": 26,
   "id": "d0cfa4ce-e0f4-41f0-bf94-488b6f1a4d6f",
   "metadata": {},
   "outputs": [
    {
     "data": {
      "text/html": [
       "<div>\n",
       "<style scoped>\n",
       "    .dataframe tbody tr th:only-of-type {\n",
       "        vertical-align: middle;\n",
       "    }\n",
       "\n",
       "    .dataframe tbody tr th {\n",
       "        vertical-align: top;\n",
       "    }\n",
       "\n",
       "    .dataframe thead th {\n",
       "        text-align: right;\n",
       "    }\n",
       "</style>\n",
       "<table border=\"1\" class=\"dataframe\">\n",
       "  <thead>\n",
       "    <tr style=\"text-align: right;\">\n",
       "      <th>smoker</th>\n",
       "      <th>no</th>\n",
       "      <th>yes</th>\n",
       "    </tr>\n",
       "    <tr>\n",
       "      <th>sex</th>\n",
       "      <th></th>\n",
       "      <th></th>\n",
       "    </tr>\n",
       "  </thead>\n",
       "  <tbody>\n",
       "    <tr>\n",
       "      <th>female</th>\n",
       "      <td>547</td>\n",
       "      <td>115</td>\n",
       "    </tr>\n",
       "    <tr>\n",
       "      <th>male</th>\n",
       "      <td>517</td>\n",
       "      <td>159</td>\n",
       "    </tr>\n",
       "  </tbody>\n",
       "</table>\n",
       "</div>"
      ],
      "text/plain": [
       "smoker   no  yes\n",
       "sex             \n",
       "female  547  115\n",
       "male    517  159"
      ]
     },
     "execution_count": 26,
     "metadata": {},
     "output_type": "execute_result"
    }
   ],
   "source": [
    "# Calculate the contingency table with pd.cross-tab\n",
    "table = pd.crosstab(df['sex'], df['smoker'])\n",
    "table"
   ]
  },
  {
   "cell_type": "code",
   "execution_count": 27,
   "id": "0742b3cf-a9d5-498c-bb6b-ad14b8241c49",
   "metadata": {},
   "outputs": [
    {
     "name": "stdout",
     "output_type": "stream",
     "text": [
      "p = 0.006548143503580696\n",
      "Significant result: True\n"
     ]
    }
   ],
   "source": [
    "# Run the Test and Save the Output\n",
    "result = stats.chi2_contingency(table)\n",
    "chi2, p, deg_free, expected_vals = result \n",
    "\n",
    "# Return details of the p-value?\n",
    "print(f'p = {p}')\n",
    "print (f'Significant result: {p<.05}')"
   ]
  },
  {
   "cell_type": "markdown",
   "id": "ef0894c4-ce09-4bb6-a708-26f0771376f8",
   "metadata": {},
   "source": [
    "- The p-value is less than 0.05\n",
    "- Hence the Null Hypothesis is rejected - as there is a significant indication that Men are more likely to smoke than Women.\n",
    "- Based on the model results - the Alternative Hypothesis is accepted."
   ]
  },
  {
   "cell_type": "code",
   "execution_count": 28,
   "id": "3114da20-acb4-44f7-99ae-83db3a45f520",
   "metadata": {},
   "outputs": [
    {
     "data": {
      "image/png": "[encoded data removed]",
      "text/plain": [
       "<Figure size 640x480 with 1 Axes>"
      ]
     },
     "metadata": {},
     "output_type": "display_data"
    }
   ],
   "source": [
    "table.plot(kind='bar', stacked=True)\n",
    "plt.title('Smoking Habits: Genders Compared')\n",
    "plt.xlabel('Gender')\n",
    "plt.ylabel('Count')\n",
    "plt.show()"
   ]
  },
  {
   "cell_type": "markdown",
   "id": "b0cf05d5-ae15-47ea-af48-bdc0aa12b4e2",
   "metadata": {},
   "source": [
    "#### **Q3. Do different regions have different charges, on average?**"
   ]
  },
  {
   "cell_type": "markdown",
   "id": "51b02684-6aa6-431f-ae1a-35d80511043a",
   "metadata": {},
   "source": [
    "#### **State the Hypothesis & Null Hypothesis**"
   ]
  },
  {
   "cell_type": "markdown",
   "id": "257449e5-0073-4e1b-a2bb-d63ea9b943e1",
   "metadata": {},
   "source": [
    "[Null Hypothesis] = There is no significant indication that Regions have different charges on average.\n",
    "\n",
    "[Alternative Hypothesis] = There is a significant indication that different Regions have different charges on average."
   ]
  },
  {
   "cell_type": "markdown",
   "id": "a4c52804-6484-4995-a489-3256aee8386c",
   "metadata": {},
   "source": [
    "#### **Select the correct test according to the data type and number of samples**"
   ]
  },
  {
   "cell_type": "markdown",
   "id": "6e287c35-fea2-4e07-b97a-53626a51399b",
   "metadata": {},
   "source": [
    " - The appropriate test to perform would be:\n",
    "    - Since we are measuring numerical data\n",
    "    - And we are comparing more than 2 groups/samples\n",
    "    - We therefore want to perform an ANOVA"
   ]
  },
  {
   "cell_type": "markdown",
   "id": "782d124f-1320-445a-ab70-38635edaa055",
   "metadata": {},
   "source": [
    "According to the workflow, the 2-sample T-Test has the following assumptions:\n",
    "- Normality\n",
    "- Equal Variance\n",
    "- No significant outliers"
   ]
  },
  {
   "cell_type": "code",
   "execution_count": 29,
   "id": "0da85dca-8be5-4e66-b6f5-65bbc89d0bac",
   "metadata": {},
   "outputs": [
    {
     "data": {
      "text/plain": [
       "dict_keys(['southwest', 'southeast', 'northwest', 'northeast'])"
      ]
     },
     "execution_count": 29,
     "metadata": {},
     "output_type": "execute_result"
    }
   ],
   "source": [
    "# Create groups dictionary\n",
    "groups = {}\n",
    "\n",
    "# Loop through all unique categories\n",
    "for i in df['region'].unique():\n",
    "    ## Get series for group and rename\n",
    "    data = df.loc[df['region']==i,'charges'].copy()\n",
    "    \n",
    "    # save into the dictionary\n",
    "    groups[i] = data\n",
    "    \n",
    "groups.keys()\n"
   ]
  },
  {
   "cell_type": "markdown",
   "id": "bcb3ef7d-9f39-4686-a7d5-9af66fabaaee",
   "metadata": {},
   "source": [
    "#### **Testing Assumptions**"
   ]
  },
  {
   "cell_type": "code",
   "execution_count": 30,
   "id": "f182876a-0b74-447a-91e5-5e8ba5456780",
   "metadata": {},
   "outputs": [
    {
     "data": {
      "text/html": [
       "<div>\n",
       "<style scoped>\n",
       "    .dataframe tbody tr th:only-of-type {\n",
       "        vertical-align: middle;\n",
       "    }\n",
       "\n",
       "    .dataframe tbody tr th {\n",
       "        vertical-align: top;\n",
       "    }\n",
       "\n",
       "    .dataframe thead th {\n",
       "        text-align: right;\n",
       "    }\n",
       "</style>\n",
       "<table border=\"1\" class=\"dataframe\">\n",
       "  <thead>\n",
       "    <tr style=\"text-align: right;\">\n",
       "      <th></th>\n",
       "      <th>n</th>\n",
       "      <th>p</th>\n",
       "      <th>test stat</th>\n",
       "    </tr>\n",
       "  </thead>\n",
       "  <tbody>\n",
       "    <tr>\n",
       "      <th>southwest</th>\n",
       "      <td>325.0</td>\n",
       "      <td>6.125298e-23</td>\n",
       "      <td>102.294059</td>\n",
       "    </tr>\n",
       "    <tr>\n",
       "      <th>southeast</th>\n",
       "      <td>364.0</td>\n",
       "      <td>4.953297e-15</td>\n",
       "      <td>65.877446</td>\n",
       "    </tr>\n",
       "    <tr>\n",
       "      <th>northwest</th>\n",
       "      <td>325.0</td>\n",
       "      <td>5.184209e-24</td>\n",
       "      <td>107.232850</td>\n",
       "    </tr>\n",
       "    <tr>\n",
       "      <th>northeast</th>\n",
       "      <td>324.0</td>\n",
       "      <td>1.455431e-19</td>\n",
       "      <td>86.747629</td>\n",
       "    </tr>\n",
       "  </tbody>\n",
       "</table>\n",
       "</div>"
      ],
      "text/plain": [
       "               n             p   test stat\n",
       "southwest  325.0  6.125298e-23  102.294059\n",
       "southeast  364.0  4.953297e-15   65.877446\n",
       "northwest  325.0  5.184209e-24  107.232850\n",
       "northeast  324.0  1.455431e-19   86.747629"
      ]
     },
     "execution_count": 30,
     "metadata": {},
     "output_type": "execute_result"
    }
   ],
   "source": [
    "# Running normal test on each group and confirming there are e.g. >20 in each group\n",
    "norm_results = {}\n",
    "for i, data in groups.items():\n",
    "    stat, p = stats.normaltest(data)\n",
    "    ## save the p val, test statistic, and the size of the group\n",
    "    norm_results[i] = {'n': len(data),\n",
    "                             'p':p,\n",
    "                             'test stat':stat,}\n",
    "    \n",
    "# Convert to a dataframe\n",
    "norm_results_df = pd.DataFrame(norm_results).T\n",
    "norm_results_df\n"
   ]
  },
  {
   "cell_type": "code",
   "execution_count": 31,
   "id": "7099ff92-6fe6-46b9-b6bd-11a1a7be6cc6",
   "metadata": {},
   "outputs": [
    {
     "data": {
      "text/html": [
       "<div>\n",
       "<style scoped>\n",
       "    .dataframe tbody tr th:only-of-type {\n",
       "        vertical-align: middle;\n",
       "    }\n",
       "\n",
       "    .dataframe tbody tr th {\n",
       "        vertical-align: top;\n",
       "    }\n",
       "\n",
       "    .dataframe thead th {\n",
       "        text-align: right;\n",
       "    }\n",
       "</style>\n",
       "<table border=\"1\" class=\"dataframe\">\n",
       "  <thead>\n",
       "    <tr style=\"text-align: right;\">\n",
       "      <th></th>\n",
       "      <th>n</th>\n",
       "      <th>p</th>\n",
       "      <th>test stat</th>\n",
       "      <th>sig</th>\n",
       "    </tr>\n",
       "  </thead>\n",
       "  <tbody>\n",
       "    <tr>\n",
       "      <th>southwest</th>\n",
       "      <td>325.0</td>\n",
       "      <td>6.125298e-23</td>\n",
       "      <td>102.294059</td>\n",
       "      <td>True</td>\n",
       "    </tr>\n",
       "    <tr>\n",
       "      <th>southeast</th>\n",
       "      <td>364.0</td>\n",
       "      <td>4.953297e-15</td>\n",
       "      <td>65.877446</td>\n",
       "      <td>True</td>\n",
       "    </tr>\n",
       "    <tr>\n",
       "      <th>northwest</th>\n",
       "      <td>325.0</td>\n",
       "      <td>5.184209e-24</td>\n",
       "      <td>107.232850</td>\n",
       "      <td>True</td>\n",
       "    </tr>\n",
       "    <tr>\n",
       "      <th>northeast</th>\n",
       "      <td>324.0</td>\n",
       "      <td>1.455431e-19</td>\n",
       "      <td>86.747629</td>\n",
       "      <td>True</td>\n",
       "    </tr>\n",
       "  </tbody>\n",
       "</table>\n",
       "</div>"
      ],
      "text/plain": [
       "               n             p   test stat   sig\n",
       "southwest  325.0  6.125298e-23  102.294059  True\n",
       "southeast  364.0  4.953297e-15   65.877446  True\n",
       "northwest  325.0  5.184209e-24  107.232850  True\n",
       "northeast  324.0  1.455431e-19   86.747629  True"
      ]
     },
     "execution_count": 31,
     "metadata": {},
     "output_type": "execute_result"
    }
   ],
   "source": [
    "# Checking sig with pandas \n",
    "norm_results_df['sig'] = norm_results_df['p'] < .05 \n",
    "norm_results_df"
   ]
  },
  {
   "cell_type": "markdown",
   "id": "57e3a9c2-4eda-4875-a980-ca83af38d053",
   "metadata": {},
   "source": [
    "- As confirmed by the Tests - each of the Groups has a normal state."
   ]
  },
  {
   "cell_type": "markdown",
   "id": "7cdc312b-1e63-4af5-b58c-e2028b174f68",
   "metadata": {},
   "source": [
    "#### **Testing Assumption of Equal Variance**"
   ]
  },
  {
   "cell_type": "code",
   "execution_count": 32,
   "id": "b0363622-a636-4271-9948-07ea828997c8",
   "metadata": {},
   "outputs": [
    {
     "data": {
      "text/plain": [
       "LeveneResult(statistic=5.559966758410606, pvalue=0.0008610590250786703)"
      ]
     },
     "execution_count": 32,
     "metadata": {},
     "output_type": "execute_result"
    }
   ],
   "source": [
    "# Perform Levene test \n",
    "stats.levene(*groups.values())"
   ]
  },
  {
   "cell_type": "markdown",
   "id": "acc1464f-ca4a-4d07-a75a-69ec502cdc9d",
   "metadata": {},
   "source": [
    "- The assumption of Equal Variance was met."
   ]
  },
  {
   "cell_type": "markdown",
   "id": "8ed3428e-aa13-4381-9fa3-e66a36e31425",
   "metadata": {},
   "source": [
    "#### **One-Way ANOVA Test**"
   ]
  },
  {
   "cell_type": "code",
   "execution_count": 33,
   "id": "7b9e61c4-19e7-458c-bc33-e91648788446",
   "metadata": {},
   "outputs": [
    {
     "data": {
      "text/plain": [
       "F_onewayResult(statistic=2.96962669358912, pvalue=0.0308933560705201)"
      ]
     },
     "execution_count": 33,
     "metadata": {},
     "output_type": "execute_result"
    }
   ],
   "source": [
    "# Perform the correct hypothesis test\n",
    "result = stats.f_oneway( *groups.values())\n",
    "result"
   ]
  },
  {
   "cell_type": "markdown",
   "id": "4c5ed8f8-445d-41fb-9f44-cad61589ff1f",
   "metadata": {},
   "source": [
    "- The p-value is much less than 0.05, so we have a Significant result.\n",
    "- The p-value of 0.03089 is less than the commonly used significance level of 0.05.\n",
    "- Therefore the Null Hypothesis is rejected."
   ]
  },
  {
   "cell_type": "code",
   "execution_count": 34,
   "id": "8ff024c0-5e2f-468b-8fd0-5fc42ac38e8e",
   "metadata": {},
   "outputs": [
    {
     "data": {
      "image/png": "[encoded data removed]",
      "text/plain": [
       "<Figure size 640x480 with 1 Axes>"
      ]
     },
     "metadata": {},
     "output_type": "display_data"
    }
   ],
   "source": [
    "# Use Seaborn to create a histogram\n",
    "sns.barplot(x='region', y='charges', data=df, palette='viridis')\n",
    "\n",
    "# Add labels and title\n",
    "plt.xlabel('Regional Groups')\n",
    "plt.ylabel('Total Charges')\n",
    "plt.title('Total Charges: Regional Groups')\n",
    "\n",
    "# Display the plot\n",
    "plt.show()"
   ]
  },
  {
   "cell_type": "markdown",
   "id": "7a954501-e0aa-4cf6-a2d2-77a8c0a2b021",
   "metadata": {},
   "source": [
    "- Conclusion and summary remarks:\n",
    "  - Significant evidence exist to suggest that average Insurance Charges vary accross different Regions.\n",
    "  - One or more Regions have different Insurance Charges - if compared to the rest."
   ]
  }
 ],
 "metadata": {
  "kernelspec": {
   "display_name": "Python 3 (ipykernel)",
   "language": "python",
   "name": "python3"
  },
  "language_info": {
   "codemirror_mode": {
    "name": "ipython",
    "version": 3
   },
   "file_extension": ".py",
   "mimetype": "text/x-python",
   "name": "python",
   "nbconvert_exporter": "python",
   "pygments_lexer": "ipython3",
   "version": "3.10.10"
  },
  "widgets": {
   "application/vnd.jupyter.widget-state+json": {
    "state": {},
    "version_major": 2,
    "version_minor": 0
   }
  }
 },
 "nbformat": 4,
 "nbformat_minor": 5
}
